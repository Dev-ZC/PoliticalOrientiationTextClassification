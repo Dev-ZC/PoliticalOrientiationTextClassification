{
  "nbformat": 4,
  "nbformat_minor": 0,
  "metadata": {
    "colab": {
      "provenance": [],
      "authorship_tag": "ABX9TyNJPV5JpgXlBZK3SZ75Ll8p",
      "include_colab_link": true
    },
    "kernelspec": {
      "name": "python3",
      "display_name": "Python 3"
    },
    "language_info": {
      "name": "python"
    }
  },
  "cells": [
    {
      "cell_type": "markdown",
      "metadata": {
        "id": "view-in-github",
        "colab_type": "text"
      },
      "source": [
        "<a href=\"https://colab.research.google.com/github/Dev-ZC/PoliticalOrientiationTextClassification/blob/main/PoliticalClassificationMistral.ipynb\" target=\"_parent\"><img src=\"https://colab.research.google.com/assets/colab-badge.svg\" alt=\"Open In Colab\"/></a>"
      ]
    },
    {
      "cell_type": "code",
      "execution_count": 8,
      "metadata": {
        "colab": {
          "base_uri": "https://localhost:8080/"
        },
        "collapsed": true,
        "id": "enV9riWeugCt",
        "outputId": "777ab226-a7f4-4c52-8144-bb72bcfcc57d"
      },
      "outputs": [
        {
          "output_type": "stream",
          "name": "stdout",
          "text": [
            "Requirement already satisfied: mistral in /usr/local/lib/python3.11/dist-packages (20.0.0)\n",
            "Requirement already satisfied: mistralai in /usr/local/lib/python3.11/dist-packages (1.6.0)\n",
            "Requirement already satisfied: alembic>=0.9.6 in /usr/local/lib/python3.11/dist-packages (from mistral) (1.15.2)\n",
            "Requirement already satisfied: croniter>=0.3.4 in /usr/local/lib/python3.11/dist-packages (from mistral) (6.0.0)\n",
            "Requirement already satisfied: cachetools>=2.0.0 in /usr/local/lib/python3.11/dist-packages (from mistral) (5.5.2)\n",
            "Requirement already satisfied: dogpile.cache>=0.6.2 in /usr/local/lib/python3.11/dist-packages (from mistral) (1.3.4)\n",
            "Requirement already satisfied: eventlet>=0.27.0 in /usr/local/lib/python3.11/dist-packages (from mistral) (0.39.1)\n",
            "Requirement already satisfied: Jinja2>=2.10 in /usr/local/lib/python3.11/dist-packages (from mistral) (3.1.6)\n",
            "Requirement already satisfied: jsonschema>=3.2.0 in /usr/local/lib/python3.11/dist-packages (from mistral) (4.23.0)\n",
            "Requirement already satisfied: keystonemiddleware>=4.18.0 in /usr/local/lib/python3.11/dist-packages (from mistral) (10.9.0)\n",
            "Requirement already satisfied: kombu!=4.0.2,>=4.6.1 in /usr/local/lib/python3.11/dist-packages (from mistral) (5.5.2)\n",
            "Requirement already satisfied: mistral-lib>=2.3.0 in /usr/local/lib/python3.11/dist-packages (from mistral) (3.3.1)\n",
            "Requirement already satisfied: networkx>=2.3 in /usr/local/lib/python3.11/dist-packages (from mistral) (3.4.2)\n",
            "Requirement already satisfied: oslo.concurrency>=3.26.0 in /usr/local/lib/python3.11/dist-packages (from mistral) (7.1.0)\n",
            "Requirement already satisfied: oslo.config>=6.8.0 in /usr/local/lib/python3.11/dist-packages (from mistral) (9.7.1)\n",
            "Requirement already satisfied: oslo.context>=2.22.0 in /usr/local/lib/python3.11/dist-packages (from mistral) (5.7.1)\n",
            "Requirement already satisfied: oslo.db>=4.40.0 in /usr/local/lib/python3.11/dist-packages (from mistral) (17.2.1)\n",
            "Requirement already satisfied: oslo.i18n>=3.15.3 in /usr/local/lib/python3.11/dist-packages (from mistral) (6.5.1)\n",
            "Requirement already satisfied: oslo.messaging>=14.1.0 in /usr/local/lib/python3.11/dist-packages (from mistral) (16.1.0)\n",
            "Requirement already satisfied: oslo.middleware>=3.31.0 in /usr/local/lib/python3.11/dist-packages (from mistral) (6.3.1)\n",
            "Requirement already satisfied: oslo.policy>=4.5.0 in /usr/local/lib/python3.11/dist-packages (from mistral) (4.5.1)\n",
            "Requirement already satisfied: oslo.utils>=7.0.0 in /usr/local/lib/python3.11/dist-packages (from mistral) (8.2.0)\n",
            "Requirement already satisfied: oslo.log>=3.36.0 in /usr/local/lib/python3.11/dist-packages (from mistral) (7.1.0)\n",
            "Requirement already satisfied: oslo.serialization>=2.21.1 in /usr/local/lib/python3.11/dist-packages (from mistral) (5.7.0)\n",
            "Requirement already satisfied: oslo.service>=2.1.0 in /usr/local/lib/python3.11/dist-packages (from mistral) (4.1.1)\n",
            "Requirement already satisfied: osprofiler>=1.4.0 in /usr/local/lib/python3.11/dist-packages (from mistral) (4.2.0)\n",
            "Requirement already satisfied: paramiko>=2.4.1 in /usr/local/lib/python3.11/dist-packages (from mistral) (3.5.1)\n",
            "Requirement already satisfied: pbr!=2.1.0,>=2.0.0 in /usr/local/lib/python3.11/dist-packages (from mistral) (6.1.1)\n",
            "Requirement already satisfied: pecan>=1.2.1 in /usr/local/lib/python3.11/dist-packages (from mistral) (1.6.0)\n",
            "Requirement already satisfied: PyJWT>=1.5 in /usr/local/lib/python3.11/dist-packages (from mistral) (2.10.1)\n",
            "Requirement already satisfied: PyYAML>=5.1 in /usr/local/lib/python3.11/dist-packages (from mistral) (6.0.2)\n",
            "Requirement already satisfied: requests>=2.18.0 in /usr/local/lib/python3.11/dist-packages (from mistral) (2.32.3)\n",
            "Requirement already satisfied: tenacity>=5.0.1 in /usr/local/lib/python3.11/dist-packages (from mistral) (9.1.2)\n",
            "Requirement already satisfied: SQLAlchemy>=1.2.5 in /usr/local/lib/python3.11/dist-packages (from mistral) (2.0.40)\n",
            "Requirement already satisfied: stevedore>=1.20.0 in /usr/local/lib/python3.11/dist-packages (from mistral) (5.4.1)\n",
            "Requirement already satisfied: WSME>=0.8.0 in /usr/local/lib/python3.11/dist-packages (from mistral) (0.12.1)\n",
            "Requirement already satisfied: yaql>=1.1.3 in /usr/local/lib/python3.11/dist-packages (from mistral) (3.0.0)\n",
            "Requirement already satisfied: tooz>=1.58.0 in /usr/local/lib/python3.11/dist-packages (from mistral) (6.3.0)\n",
            "Requirement already satisfied: eval-type-backport>=0.2.0 in /usr/local/lib/python3.11/dist-packages (from mistralai) (0.2.2)\n",
            "Requirement already satisfied: httpx>=0.28.1 in /usr/local/lib/python3.11/dist-packages (from mistralai) (0.28.1)\n",
            "Requirement already satisfied: pydantic>=2.10.3 in /usr/local/lib/python3.11/dist-packages (from mistralai) (2.11.3)\n",
            "Requirement already satisfied: python-dateutil>=2.8.2 in /usr/local/lib/python3.11/dist-packages (from mistralai) (2.8.2)\n",
            "Requirement already satisfied: typing-inspection>=0.4.0 in /usr/local/lib/python3.11/dist-packages (from mistralai) (0.4.0)\n",
            "Requirement already satisfied: Mako in /usr/lib/python3/dist-packages (from alembic>=0.9.6->mistral) (1.1.3)\n",
            "Requirement already satisfied: typing-extensions>=4.12 in /usr/local/lib/python3.11/dist-packages (from alembic>=0.9.6->mistral) (4.13.1)\n",
            "Requirement already satisfied: pytz>2021.1 in /usr/local/lib/python3.11/dist-packages (from croniter>=0.3.4->mistral) (2025.2)\n",
            "Requirement already satisfied: decorator>=4.0.0 in /usr/local/lib/python3.11/dist-packages (from dogpile.cache>=0.6.2->mistral) (4.4.2)\n",
            "Requirement already satisfied: dnspython>=1.15.0 in /usr/local/lib/python3.11/dist-packages (from eventlet>=0.27.0->mistral) (2.7.0)\n",
            "Requirement already satisfied: greenlet>=1.0 in /usr/local/lib/python3.11/dist-packages (from eventlet>=0.27.0->mistral) (3.1.1)\n",
            "Requirement already satisfied: anyio in /usr/local/lib/python3.11/dist-packages (from httpx>=0.28.1->mistralai) (4.9.0)\n",
            "Requirement already satisfied: certifi in /usr/local/lib/python3.11/dist-packages (from httpx>=0.28.1->mistralai) (2025.1.31)\n",
            "Requirement already satisfied: httpcore==1.* in /usr/local/lib/python3.11/dist-packages (from httpx>=0.28.1->mistralai) (1.0.7)\n",
            "Requirement already satisfied: idna in /usr/local/lib/python3.11/dist-packages (from httpx>=0.28.1->mistralai) (3.10)\n",
            "Requirement already satisfied: h11<0.15,>=0.13 in /usr/local/lib/python3.11/dist-packages (from httpcore==1.*->httpx>=0.28.1->mistralai) (0.14.0)\n",
            "Requirement already satisfied: MarkupSafe>=2.0 in /usr/local/lib/python3.11/dist-packages (from Jinja2>=2.10->mistral) (3.0.2)\n",
            "Requirement already satisfied: attrs>=22.2.0 in /usr/local/lib/python3.11/dist-packages (from jsonschema>=3.2.0->mistral) (25.3.0)\n",
            "Requirement already satisfied: jsonschema-specifications>=2023.03.6 in /usr/local/lib/python3.11/dist-packages (from jsonschema>=3.2.0->mistral) (2024.10.1)\n",
            "Requirement already satisfied: referencing>=0.28.4 in /usr/local/lib/python3.11/dist-packages (from jsonschema>=3.2.0->mistral) (0.36.2)\n",
            "Requirement already satisfied: rpds-py>=0.7.1 in /usr/local/lib/python3.11/dist-packages (from jsonschema>=3.2.0->mistral) (0.24.0)\n",
            "Requirement already satisfied: keystoneauth1>=3.12.0 in /usr/local/lib/python3.11/dist-packages (from keystonemiddleware>=4.18.0->mistral) (5.10.0)\n",
            "Requirement already satisfied: oslo.cache>=1.26.0 in /usr/local/lib/python3.11/dist-packages (from keystonemiddleware>=4.18.0->mistral) (3.10.1)\n",
            "Requirement already satisfied: pycadf>=1.1.0 in /usr/local/lib/python3.11/dist-packages (from keystonemiddleware>=4.18.0->mistral) (4.0.1)\n",
            "Requirement already satisfied: python-keystoneclient>=3.20.0 in /usr/local/lib/python3.11/dist-packages (from keystonemiddleware>=4.18.0->mistral) (5.6.0)\n",
            "Requirement already satisfied: WebOb>=1.7.1 in /usr/local/lib/python3.11/dist-packages (from keystonemiddleware>=4.18.0->mistral) (1.8.9)\n",
            "Requirement already satisfied: amqp<6.0.0,>=5.1.1 in /usr/local/lib/python3.11/dist-packages (from kombu!=4.0.2,>=4.6.1->mistral) (5.3.1)\n",
            "Requirement already satisfied: vine==5.1.0 in /usr/local/lib/python3.11/dist-packages (from kombu!=4.0.2,>=4.6.1->mistral) (5.1.0)\n",
            "Requirement already satisfied: tzdata==2025.2 in /usr/local/lib/python3.11/dist-packages (from kombu!=4.0.2,>=4.6.1->mistral) (2025.2)\n",
            "Requirement already satisfied: fasteners>=0.7.0 in /usr/local/lib/python3.11/dist-packages (from oslo.concurrency>=3.26.0->mistral) (0.19)\n",
            "Requirement already satisfied: debtcollector>=3.0.0 in /usr/local/lib/python3.11/dist-packages (from oslo.concurrency>=3.26.0->mistral) (3.0.0)\n",
            "Requirement already satisfied: netaddr>=0.7.18 in /usr/local/lib/python3.11/dist-packages (from oslo.config>=6.8.0->mistral) (1.3.0)\n",
            "Requirement already satisfied: rfc3986>=1.2.0 in /usr/local/lib/python3.11/dist-packages (from oslo.config>=6.8.0->mistral) (2.0.0)\n",
            "Requirement already satisfied: testresources>=2.0.0 in /usr/local/lib/python3.11/dist-packages (from oslo.db>=4.40.0->mistral) (2.0.1)\n",
            "Requirement already satisfied: testscenarios>=0.4 in /usr/local/lib/python3.11/dist-packages (from oslo.db>=4.40.0->mistral) (0.5.0)\n",
            "Requirement already satisfied: futurist>=1.2.0 in /usr/local/lib/python3.11/dist-packages (from oslo.messaging>=14.1.0->mistral) (3.1.1)\n",
            "Requirement already satisfied: oslo.metrics>=0.2.1 in /usr/local/lib/python3.11/dist-packages (from oslo.messaging>=14.1.0->mistral) (0.11.0)\n",
            "Requirement already satisfied: statsd>=3.2.1 in /usr/local/lib/python3.11/dist-packages (from oslo.middleware>=3.31.0->mistral) (4.0.1)\n",
            "Requirement already satisfied: bcrypt>=3.1.3 in /usr/local/lib/python3.11/dist-packages (from oslo.middleware>=3.31.0->mistral) (4.3.0)\n",
            "Requirement already satisfied: msgpack>=0.5.2 in /usr/local/lib/python3.11/dist-packages (from oslo.serialization>=2.21.1->mistral) (1.1.0)\n",
            "Requirement already satisfied: PasteDeploy>=1.5.0 in /usr/local/lib/python3.11/dist-packages (from oslo.service>=2.1.0->mistral) (3.1.0)\n",
            "Requirement already satisfied: Routes>=2.3.1 in /usr/local/lib/python3.11/dist-packages (from oslo.service>=2.1.0->mistral) (2.5.1)\n",
            "Requirement already satisfied: Paste>=2.0.2 in /usr/local/lib/python3.11/dist-packages (from oslo.service>=2.1.0->mistral) (3.10.1)\n",
            "Requirement already satisfied: Yappi>=1.0 in /usr/local/lib/python3.11/dist-packages (from oslo.service>=2.1.0->mistral) (1.6.10)\n",
            "Requirement already satisfied: iso8601>=0.1.11 in /usr/local/lib/python3.11/dist-packages (from oslo.utils>=7.0.0->mistral) (2.1.0)\n",
            "Requirement already satisfied: pyparsing>=2.1.0 in /usr/local/lib/python3.11/dist-packages (from oslo.utils>=7.0.0->mistral) (3.2.3)\n",
            "Requirement already satisfied: packaging>=20.4 in /usr/local/lib/python3.11/dist-packages (from oslo.utils>=7.0.0->mistral) (24.2)\n",
            "Requirement already satisfied: psutil>=3.2.2 in /usr/local/lib/python3.11/dist-packages (from oslo.utils>=7.0.0->mistral) (5.9.5)\n",
            "Requirement already satisfied: PrettyTable>=0.7.2 in /usr/local/lib/python3.11/dist-packages (from osprofiler>=1.4.0->mistral) (3.16.0)\n",
            "Requirement already satisfied: cryptography>=3.3 in /usr/local/lib/python3.11/dist-packages (from paramiko>=2.4.1->mistral) (43.0.3)\n",
            "Requirement already satisfied: pynacl>=1.5 in /usr/local/lib/python3.11/dist-packages (from paramiko>=2.4.1->mistral) (1.5.0)\n",
            "Requirement already satisfied: setuptools in /usr/local/lib/python3.11/dist-packages (from pbr!=2.1.0,>=2.0.0->mistral) (75.2.0)\n",
            "Requirement already satisfied: annotated-types>=0.6.0 in /usr/local/lib/python3.11/dist-packages (from pydantic>=2.10.3->mistralai) (0.7.0)\n",
            "Requirement already satisfied: pydantic-core==2.33.1 in /usr/local/lib/python3.11/dist-packages (from pydantic>=2.10.3->mistralai) (2.33.1)\n",
            "Requirement already satisfied: six>=1.5 in /usr/local/lib/python3.11/dist-packages (from python-dateutil>=2.8.2->mistralai) (1.17.0)\n",
            "Requirement already satisfied: charset-normalizer<4,>=2 in /usr/local/lib/python3.11/dist-packages (from requests>=2.18.0->mistral) (3.4.1)\n",
            "Requirement already satisfied: urllib3<3,>=1.21.1 in /usr/local/lib/python3.11/dist-packages (from requests>=2.18.0->mistral) (2.3.0)\n",
            "Requirement already satisfied: voluptuous>=0.8.9 in /usr/local/lib/python3.11/dist-packages (from tooz>=1.58.0->mistral) (0.15.2)\n",
            "Requirement already satisfied: simplegeneric in /usr/local/lib/python3.11/dist-packages (from WSME>=0.8.0->mistral) (0.8.1)\n",
            "Requirement already satisfied: importlib-metadata>=4.4 in /usr/local/lib/python3.11/dist-packages (from WSME>=0.8.0->mistral) (8.6.1)\n",
            "Requirement already satisfied: ply in /usr/local/lib/python3.11/dist-packages (from yaql>=1.1.3->mistral) (3.11)\n",
            "Requirement already satisfied: cffi>=1.12 in /usr/local/lib/python3.11/dist-packages (from cryptography>=3.3->paramiko>=2.4.1->mistral) (1.17.1)\n",
            "Requirement already satisfied: wrapt>=1.7.0 in /usr/local/lib/python3.11/dist-packages (from debtcollector>=3.0.0->oslo.concurrency>=3.26.0->mistral) (1.17.2)\n",
            "Requirement already satisfied: zipp>=3.20 in /usr/local/lib/python3.11/dist-packages (from importlib-metadata>=4.4->WSME>=0.8.0->mistral) (3.21.0)\n",
            "Requirement already satisfied: os-service-types>=1.2.0 in /usr/local/lib/python3.11/dist-packages (from keystoneauth1>=3.12.0->keystonemiddleware>=4.18.0->mistral) (1.7.0)\n",
            "Requirement already satisfied: prometheus-client>=0.6.0 in /usr/local/lib/python3.11/dist-packages (from oslo.metrics>=0.2.1->oslo.messaging>=14.1.0->mistral) (0.21.1)\n",
            "Requirement already satisfied: wcwidth in /usr/local/lib/python3.11/dist-packages (from PrettyTable>=0.7.2->osprofiler>=1.4.0->mistral) (0.2.13)\n",
            "Requirement already satisfied: repoze.lru>=0.3 in /usr/local/lib/python3.11/dist-packages (from Routes>=2.3.1->oslo.service>=2.1.0->mistral) (0.7)\n",
            "Requirement already satisfied: testtools in /usr/local/lib/python3.11/dist-packages (from testscenarios>=0.4->oslo.db>=4.40.0->mistral) (2.7.2)\n",
            "Requirement already satisfied: sniffio>=1.1 in /usr/local/lib/python3.11/dist-packages (from anyio->httpx>=0.28.1->mistralai) (1.3.1)\n",
            "Requirement already satisfied: pycparser in /usr/local/lib/python3.11/dist-packages (from cffi>=1.12->cryptography>=3.3->paramiko>=2.4.1->mistral) (2.22)\n"
          ]
        }
      ],
      "source": [
        "!pip install mistral mistralai"
      ]
    },
    {
      "cell_type": "code",
      "source": [
        "import pandas as pd\n",
        "import json\n",
        "import random\n",
        "import os\n",
        "from mistralai import Mistral\n",
        "from mistralai.client import MistralClient\n",
        "#from mistralai.models.fine_tuning import FineTuningJob\n",
        "from sklearn.model_selection import train_test_split"
      ],
      "metadata": {
        "id": "HQnMGnW7uy2S"
      },
      "execution_count": 71,
      "outputs": []
    },
    {
      "cell_type": "code",
      "source": [
        "# Load and rename columns\n",
        "df = pd.read_csv(\"/content/new_election_data(2).csv\")\n",
        "df = df.rename(columns={\"whisper_voice_to_text\": \"prompt\", \"manual_leaning\": \"label\"})\n",
        "\n",
        "# Split into train and validation (90% train, 10% val)\n",
        "train_df, val_df = train_test_split(df, test_size=0.1, random_state=42)\n",
        "\n",
        "# Function to write JSONL\n",
        "def save_jsonl(df_split, filename):\n",
        "    with open(filename, \"w\") as f:\n",
        "        for _, row in df_split.iterrows():\n",
        "            example = {\n",
        "                \"messages\": [\n",
        "                    {\"role\": \"user\", \"content\": f\"Classify the political leaning in this text:\\n\\n{row['prompt']}\"},\n",
        "                    {\"role\": \"assistant\", \"content\": f\"This text has a {row['label']} political leaning.\"}\n",
        "                ]\n",
        "            }\n",
        "            f.write(json.dumps(example) + \"\\n\")\n",
        "\n",
        "# Save both files\n",
        "save_jsonl(train_df, \"train.jsonl\")\n",
        "save_jsonl(val_df, \"val.jsonl\")"
      ],
      "metadata": {
        "id": "JPlCuPj5u7Yo"
      },
      "execution_count": 72,
      "outputs": []
    },
    {
      "cell_type": "code",
      "source": [
        "# prompt: print the head of hte jsonl\n",
        "\n",
        "import json\n",
        "\n",
        "with open(\"train.jsonl\", \"r\") as f:\n",
        "    for i in range(5):  # Print the first 5 lines\n",
        "        line = f.readline()\n",
        "        if not line:\n",
        "            break  # Stop if the file ends before 5 lines\n",
        "        try:\n",
        "            data = json.loads(line)\n",
        "            print(data)\n",
        "        except json.JSONDecodeError as e:\n",
        "            print(f\"Error decoding JSON on line {i+1}: {e}\")\n"
      ],
      "metadata": {
        "colab": {
          "base_uri": "https://localhost:8080/"
        },
        "id": "8PTW2xG46qrB",
        "outputId": "157989cd-ef83-4f6d-b0e4-0a230f1cc127"
      },
      "execution_count": 75,
      "outputs": [
        {
          "output_type": "stream",
          "name": "stdout",
          "text": [
            "{'messages': [{'role': 'user', 'content': \"Classify the political leaning in this text:\\n\\n I'm just going to say it. I am not excited about the debate between Tim Walz and J.D. Vance. Not because I don't think that Tim Walz can do it. I think his message is stronger. It's more populous. It's for the people. I think his message actually makes sense. I think J.D. Vance is just weird. I'm not worried about that now. Walz can get his point across. He can pet people up. He can make people feel like he actually knows what he's talking about. Like he knows what they're going through. So I'm not worried about the messaging. Partially. This is the problem I have with it. They're not doc checking. They're letting the other candidates. The candidate. The opponent fact check. It's the job of the media to give us objective reality. To tell us what the truth is. Not what one person says and what the other person says and you can decide. That's not objective. That's what we need to have is an objective reality. So when somebody, one of the candidates says something that's out of pocket and wrong. They can say actually. The reality is this. That gives. That gives the candidates. The ability to. Debate facts. The ability to debate the actual issues and not go on a tangent about crap. Now what this does. What they're stupid rules about letting the opponent fact check does is it allows J.D. Vance to just steamroll his bullshit just over and over so many things. Things that have no bearing in truth and they're just a bunch of bullshit and he can just sit there and spew this stuff over and over and it will take up Tim Wall's entire time trying to debunk it or trying to refute it trying to show that it's wrong that he isn't even going to be able to put across any kind of message. Now that's what this should be about is the ability to show that yes if the president is out of line. I can. Step in to become president I am good enough to do this. I have my head on my shoulders but if you have an idiot like Vance just throwing a bunch of crap out there then it's going to take up all of Tim Wall's time trying to dispute that trying to show how bullshit this guy is. It's not going to be productive. I'm not excited about this debate because I think that J.D. Vance is just going to do so much. This. My. Prediction. He's just going to throw so much shit out there and you come back and tell me if this is what happened. He's going to throw so much shit out there that it's going to take Tim Wall's all of the time trying to either refute it or he's just going to leave it alone which allows people to think that oh he didn't refute that so it must be right or it must not be important to fight about. This is going to be a train wreck. This is my prediction. Now you come back to the comments afterward. Come to the comments first. You let me know how if I'm right. If you think I'm right. And then you come back afterward and you decide if I was right. If my prediction is right. If he's just going to throw a bunch of bullshit out there like they're eating the dogs like anything that has to do with non-reality. And Tim Wall's going to be stuck either trying to just get a message across and letting all that shit go like it was real or he's going to be fighting all of that bullshit. And not be able to get his message across. That's my prediction. You let me know. Let me know what you think.\"}, {'role': 'assistant', 'content': 'This text has a Democrats political leaning.'}]}\n",
            "{'messages': [{'role': 'user', 'content': \"Classify the political leaning in this text:\\n\\nWe need to talk about it. Project 2025. What is it? Who wrote it? Where did it come from? The entire far-right blueprint is 920 pages and 30 chapters. You're not going to read all that. I don't expect you to. And if you haven't even heard of Project 2025, that's okay too. But you do need to know what's in it because it's pretty terrifying. Think a playbook for Handmaid's Tale, essentially turning the U.S. into Gilead. I've looked for some good, easy explanations of Project 2025, and there really aren't that many. This is going to be the most comprehensive and simple explanation of 2025 that you're going to get. So background. Project 2025 dates back to 1973. That's when the Heritage Foundation, a very powerful conservative think tank based in Washington, D.C., was founded. They are the writers and the architects of Project 2025. And their main mission and goal is to move America to a more far-right Christian nationalist state. It originally came to prominence when they wrote their first manifesto in 1981 titled A Mandate for Leadership. And get this. Those very same policies were the ones that were used and implemented in the Reagan administration. Seriously, around 60% of the 2,000 proposals written in the manifesto were implemented by Reagan. So now they're back again with a new edition, and this new edition is known as Project 2025. And it's supposed to provide guidance for the Don or whoever becomes the next Republican president. And these 900 pages and 30 chapters are written by professors, doctors, scientists, lawyers, scholars on each subject. And they've divided projects. Project 2025 into four main pillars. The first is policy, which is this big book. The second is personnel. They're creating this huge conservative database. Think LinkedIn, but for DJT loyalists. The third pillar is training. They set up this online educational system called the Presidential Administration Academy, where they teach their views and ideology in a course. And the fourth is called Playbook, which is an action game designed for how they're going to get everything done. Now let's get into some of the very concerning things. So first off, they're calling for a complete ban on abortions on their wish list for DJT's second term. Starting off strong on pages 450 to 503. They're calling for a complete ban on abortions. Not very shocking. Page 319, they're saying the Department of Education should be eliminated. And in addition to calling for its elimination, they state that any school that requires a vaccine or mask mandate will not receive federal funding. Page 482, eliminate the Head Start program. Page 675, calling for the elimination of NOAA and the National Weather Service. Because these organizations. And I quote, have become one of the main drivers of climate change alarm industry and as such is harmful to the future US prosperity. Page 133, they call for the complete dismantling of the Department of Homeland Security. In addition, they argue for the elimination of the FBI along with the Department of Justice. Page 5, they call for a complete ban on corn. Writing that corn should be outlawed. The people who produce and distribute it should be imprisoned. And anyone else who participates or facilitates it should be registered. Page 104, reverse policies that allow transgender, immigrant, and non-binary to participate in the United States. And they're calling for the elimination of the FBI along with the Department of Justice. Page 104, reverse policies that allow transgender and immigrant to participate in the United States. And they're calling for a complete ban on abortion. And they're calling for a complete ban on abortion. And they're calling for individuals to serve in the military. Gender dysmorphia is incompatible with the demands of the military service and the use of public monies for transgender surgeries or to facilitate abortion for service members should be ended. And there's so, so much more. Including the possibility of ending birthright citizenship. Banning African American and gender studies in all levels of education. Calling for an ending of any DEI programs. Getting rid of gay marriage. Ending the Affordable Care Act. And it also calls for the mass deportation of immigrants. And proposes a plan to round up illegal migrants. And lock them up. And put them in camps. But perhaps one of the most troubling and well thought out plans is the move to reclassify federal workers under what is known as Schedule F. Now I'm going to get a little HR heavy but please stick with me because it's so important. Now there are two types of federal employees. The first group are merit based workers. These are career positions. These people have earned them through going to school, getting work experience. They're either considered experts or they could be a part of the support staff. These people are hired because they know their stuff. Think an engineer at NASA or a scientist at the FDA. Their federal jobs have protections. Now the other class are at will or appointed workers. These employees tend to serve at the pleasure of the president or the administration. Which basically means they can be fired or replaced at any time. To put it all in context, there are about 2 million of the first class of merit based employees. And only about 4,000 political appointed ones. Under this new plan of Schedule F, they'd reclassify a bunch of the workers. They'd reclassify a bunch of the regular civil servants into political appointees. That way the don can replace them with loyalists. Now how does replacing all these people help him carry out his plan? Let's do an example. Under Schedule F, DJT could take a scientist at the FDA, fire him, and then replace him with, let's say, a scientist who wouldn't give clearance to birth control or the abortion bill. Therefore making it illegal and inaccessible without having to go through the courts, without having to go through Congress. By the way, they specifically lay this out in the plan in the 900 pages. Now remember what I said about the whole conservative LinkedIn? That's the database they're going to use to fill these positions. A bunch of unqualified loyalists. And in October of 2020, actually, DJT tried to do this. He tried to implement Schedule F. He signed it into order, but then he lost in November. And the whole thing was pretty much a secret, but Biden then immediately repealed it. But if he wins this time, they say it'll be one of the first acts of his presidency. Now, the Don has come out and said he doesn't know anything about this Project 2025. And has been trying to distance himself from it. But at least 26 authors and people who are associated with Project 2025 served in his very own administration. Including Russ Voigt, John McKinty, Stephen Miller, and many others. Also, his own platform, Agenda 47, just sounds like a SparkNotes version of Project 2025. The president of the Heritage Foundation is calling Project 2025 the new American revolution. The second DJT term could lead the way. The second DJT term could lead the way.\"}, {'role': 'assistant', 'content': 'This text has a Democrats political leaning.'}]}\n",
            "{'messages': [{'role': 'user', 'content': \"Classify the political leaning in this text:\\n\\nIn case you guys missed it last night, here's what Trump had to say to Biden. Take a listen. You guys can be referees if you like. Let's do another debate this week so that Sleepy Joe Biden can prove to everyone all over the world that he has what it takes to be president. But this time it will be man to man, no moderators, no holds barred. Just name the place, anytime, anywhere. And in the debate, Sleepy Joe also declared that he wanted to test his skills and stamina against mine or the golf course. Can you believe this? Did you ever see him swing? That's why this evening I am also, and this is in honor of you and everybody here, this is 45,000 people. That's a lot of people. I'm also officially challenging Prickle Joe to an 18-hole golf match right here.\"}, {'role': 'assistant', 'content': 'This text has a Republicans political leaning.'}]}\n",
            "{'messages': [{'role': 'user', 'content': \"Classify the political leaning in this text:\\n\\nA surgeon can insert this ring of beads around your esophagus to stop acid reflux. You see, acid reflux happens when stomach acid travels back up your throat. And this irritates the tissues, causing them to become inflamed. To fix it, a surgeon can place this ring of beads around the lower part of the esophagus. The beads will still allow food to pass through, but they're just strong enough to stop the acid.\"}, {'role': 'assistant', 'content': 'This text has a Neither political leaning.'}]}\n",
            "{'messages': [{'role': 'user', 'content': \"Classify the political leaning in this text:\\n\\nLet me hit you on some game. Let me tell you what to look for. Because the white media and the Republicans and all the white supremacists got a new playbook. The new playbook is to scare you about our Vice President Kamala Harris. I hope I ain't saying her wrong. Kamala Harris, my sister, our sister. So the new players to make you think about if fucking Biden kicks the bucket, you get Kamala. What's wrong with Kamala? Kamala is a public servant that been in government for a long time. Why they want to scare you with the black system? The white man know they losing ground and they trying every book. Every trick in the book. It ain't going to work. Nothing they do works. They not that great. Master race my ass. I don't even know how to fuck with slaves. The new play is to scare you about the Vice President. It's the stupidest shit ever.\"}, {'role': 'assistant', 'content': 'This text has a Republicans political leaning.'}]}\n"
          ]
        }
      ]
    },
    {
      "cell_type": "markdown",
      "source": [
        "validate data"
      ],
      "metadata": {
        "id": "PvoVeEKs1li_"
      }
    },
    {
      "cell_type": "code",
      "source": [
        "!apt-get install -y build-essential libssl-dev libffi-dev python3-dev\n",
        "!pip install wget mistral_common mistral_finetune"
      ],
      "metadata": {
        "colab": {
          "base_uri": "https://localhost:8080/"
        },
        "collapsed": true,
        "id": "LDrZ4WSm1wkc",
        "outputId": "e2c4caca-4c05-46ed-c847-4e0e4faf2260"
      },
      "execution_count": 46,
      "outputs": [
        {
          "output_type": "stream",
          "name": "stdout",
          "text": [
            "Reading package lists... Done\n",
            "Building dependency tree... Done\n",
            "Reading state information... Done\n",
            "build-essential is already the newest version (12.9ubuntu3).\n",
            "libffi-dev is already the newest version (3.4.2-4).\n",
            "libssl-dev is already the newest version (3.0.2-0ubuntu1.19).\n",
            "python3-dev is already the newest version (3.10.6-1~22.04.1).\n",
            "0 upgraded, 0 newly installed, 0 to remove and 30 not upgraded.\n",
            "Requirement already satisfied: wget in /usr/local/lib/python3.11/dist-packages (3.2)\n",
            "Requirement already satisfied: mistral_common in /usr/local/lib/python3.11/dist-packages (1.5.4)\n",
            "Requirement already satisfied: mistral_finetune in /usr/local/lib/python3.11/dist-packages (0.0.0)\n",
            "Requirement already satisfied: jsonschema>=4.21.1 in /usr/local/lib/python3.11/dist-packages (from mistral_common) (4.23.0)\n",
            "Requirement already satisfied: numpy>=1.25 in /usr/local/lib/python3.11/dist-packages (from mistral_common) (2.0.2)\n",
            "Requirement already satisfied: pillow>=10.3.0 in /usr/local/lib/python3.11/dist-packages (from mistral_common) (11.1.0)\n",
            "Requirement already satisfied: pydantic<3.0,>=2.7 in /usr/local/lib/python3.11/dist-packages (from mistral_common) (2.11.3)\n",
            "Requirement already satisfied: requests>=2.0.0 in /usr/local/lib/python3.11/dist-packages (from mistral_common) (2.32.3)\n",
            "Requirement already satisfied: sentencepiece>=0.2.0 in /usr/local/lib/python3.11/dist-packages (from mistral_common) (0.2.0)\n",
            "Requirement already satisfied: tiktoken>=0.7.0 in /usr/local/lib/python3.11/dist-packages (from mistral_common) (0.9.0)\n",
            "Requirement already satisfied: typing-extensions>=4.11.0 in /usr/local/lib/python3.11/dist-packages (from mistral_common) (4.13.1)\n",
            "Requirement already satisfied: attrs>=22.2.0 in /usr/local/lib/python3.11/dist-packages (from jsonschema>=4.21.1->mistral_common) (25.3.0)\n",
            "Requirement already satisfied: jsonschema-specifications>=2023.03.6 in /usr/local/lib/python3.11/dist-packages (from jsonschema>=4.21.1->mistral_common) (2024.10.1)\n",
            "Requirement already satisfied: referencing>=0.28.4 in /usr/local/lib/python3.11/dist-packages (from jsonschema>=4.21.1->mistral_common) (0.36.2)\n",
            "Requirement already satisfied: rpds-py>=0.7.1 in /usr/local/lib/python3.11/dist-packages (from jsonschema>=4.21.1->mistral_common) (0.24.0)\n",
            "Requirement already satisfied: annotated-types>=0.6.0 in /usr/local/lib/python3.11/dist-packages (from pydantic<3.0,>=2.7->mistral_common) (0.7.0)\n",
            "Requirement already satisfied: pydantic-core==2.33.1 in /usr/local/lib/python3.11/dist-packages (from pydantic<3.0,>=2.7->mistral_common) (2.33.1)\n",
            "Requirement already satisfied: typing-inspection>=0.4.0 in /usr/local/lib/python3.11/dist-packages (from pydantic<3.0,>=2.7->mistral_common) (0.4.0)\n",
            "Requirement already satisfied: charset-normalizer<4,>=2 in /usr/local/lib/python3.11/dist-packages (from requests>=2.0.0->mistral_common) (3.4.1)\n",
            "Requirement already satisfied: idna<4,>=2.5 in /usr/local/lib/python3.11/dist-packages (from requests>=2.0.0->mistral_common) (3.10)\n",
            "Requirement already satisfied: urllib3<3,>=1.21.1 in /usr/local/lib/python3.11/dist-packages (from requests>=2.0.0->mistral_common) (2.3.0)\n",
            "Requirement already satisfied: certifi>=2017.4.17 in /usr/local/lib/python3.11/dist-packages (from requests>=2.0.0->mistral_common) (2025.1.31)\n",
            "Requirement already satisfied: regex>=2022.1.18 in /usr/local/lib/python3.11/dist-packages (from tiktoken>=0.7.0->mistral_common) (2024.11.6)\n"
          ]
        }
      ]
    },
    {
      "cell_type": "code",
      "source": [
        "import wget\n",
        "import mistral_common\n",
        "import mistral_finetune\n",
        "#!wget https://raw.githubusercontent.com/mistralai/mistral-finetune/main/utils/reformat_data.py\n",
        "#!wget https://raw.githubusercontent.com/mistralai/mistral-finetune/main/utils/validate_data.py\n",
        "# reformat data\n",
        "!python reformat_data.py mistral_finetune_dataset.jsonl\n",
        "# validate data\n",
        "!python validate_data.py mistral_finetune_dataset.jsonl\n"
      ],
      "metadata": {
        "colab": {
          "base_uri": "https://localhost:8080/"
        },
        "collapsed": true,
        "id": "HmYn5qa21lYk",
        "outputId": "9ca624f1-c061-460c-b6ab-1fa1dfba2a08"
      },
      "execution_count": 50,
      "outputs": [
        {
          "output_type": "stream",
          "name": "stdout",
          "text": [
            "Traceback (most recent call last):\n",
            "  File \"/content/validate_data.py\", line 16, in <module>\n",
            "    from finetune.args import TrainArgs\n",
            "ModuleNotFoundError: No module named 'finetune'\n"
          ]
        }
      ]
    },
    {
      "cell_type": "code",
      "source": [
        "# prompt: create a test jsonl file using the following: {\n",
        "#     \"messages\": [\n",
        "#         {\n",
        "#             \"role\": \"user\",\n",
        "#             \"content\": \"User interaction n°1 contained in document n°2\"\n",
        "#         },\n",
        "#         {\n",
        "#             \"role\": \"assistant\",\n",
        "#             \"content\": \"Bot interaction n°1 contained in document n°2\"\n",
        "#         },\n",
        "#         {\n",
        "#             \"role\": \"user\",\n",
        "#             \"content\": \"User interaction n°2 contained in document n°1\"\n",
        "#         },\n",
        "#         {\n",
        "#             \"role\": \"assistant\",\n",
        "#             \"content\": \"Bot interaction n°2 contained in document n°1\"\n",
        "#         }\n",
        "#     ]\n",
        "# }\n",
        "\n",
        "import json\n",
        "\n",
        "data = {\n",
        "    \"messages\": [\n",
        "        {\n",
        "            \"role\": \"user\",\n",
        "            \"content\": \"User interaction n°1 contained in document n°2\"\n",
        "        },\n",
        "        {\n",
        "            \"role\": \"assistant\",\n",
        "            \"content\": \"Bot interaction n°1 contained in document n°2\"\n",
        "        },\n",
        "        {\n",
        "            \"role\": \"user\",\n",
        "            \"content\": \"User interaction n°2 contained in document n°1\"\n",
        "        },\n",
        "        {\n",
        "            \"role\": \"assistant\",\n",
        "            \"content\": \"Bot interaction n°2 contained in document n°1\"\n",
        "        }\n",
        "    ]\n",
        "}\n",
        "\n",
        "with open(\"test.jsonl\", \"w\") as f:\n",
        "    json.dump(data, f)\n",
        "    f.write('\\n') # jsonl requires a newline character after each json object\n",
        "\n"
      ],
      "metadata": {
        "id": "xaORGq3N9CJw"
      },
      "execution_count": 60,
      "outputs": []
    },
    {
      "cell_type": "markdown",
      "source": [
        "Launch Training Job"
      ],
      "metadata": {
        "id": "P5t8YSNrAHqd"
      }
    },
    {
      "cell_type": "code",
      "source": [
        "from google.colab import userdata\n",
        "API_KEY = userdata.get('MISTRAL_KEY')\n",
        "\n",
        "# Set up Mistral client with API key\n",
        "#api_key = os.environ.get(\"MISTRAL_API_KEY\", \"your_api_key_here\")\n",
        "client = Mistral(api_key=API_KEY)\n",
        "\n",
        "# Upload training file\n",
        "training_data = client.files.upload(\n",
        "    file={\n",
        "        #\"file_name\": \"mistral_finetune_dataset.jsonl\",\n",
        "        #\"content\": open(\"mistral_finetune_dataset.jsonl\", \"rb\"),\n",
        "        \"file_name\": \"train.jsonl\",\n",
        "        \"content\": open(\"/content/train.jsonl\", \"rb\"),\n",
        "    }\n",
        ")\n",
        "\n",
        "validation_data = client.files.upload(\n",
        "    file={\n",
        "        #\"file_name\": \"mistral_finetune_dataset.jsonl\",\n",
        "        #\"content\": open(\"mistral_finetune_dataset.jsonl\", \"rb\"),\n",
        "        \"file_name\": \"val.jsonl\",\n",
        "        \"content\": open(\"/content/val.jsonl\", \"rb\"),\n",
        "    }\n",
        ")\n",
        "\n",
        "# create a fine-tuning job\n",
        "created_jobs = client.fine_tuning.jobs.create(\n",
        "    model=\"open-mistral-7b\",\n",
        "    training_files=[{\"file_id\": training_data.id, \"weight\": 1}],\n",
        "    validation_files=[validation_data.id],\n",
        "    hyperparameters={\n",
        "        \"training_steps\": 10,\n",
        "        \"learning_rate\":0.0001\n",
        "    },\n",
        "    auto_start=False\n",
        ")"
      ],
      "metadata": {
        "id": "UhWK68Ixu904"
      },
      "execution_count": 76,
      "outputs": []
    },
    {
      "cell_type": "markdown",
      "source": [
        "Check status"
      ],
      "metadata": {
        "id": "fohTItRCAoXZ"
      }
    },
    {
      "cell_type": "code",
      "source": [
        "client.fine_tuning.jobs.get(job_id = created_jobs.id)"
      ],
      "metadata": {
        "colab": {
          "base_uri": "https://localhost:8080/"
        },
        "id": "jFlzeUvrAoHB",
        "outputId": "860a80cb-16b0-4948-9c8c-c43517574ab0"
      },
      "execution_count": 77,
      "outputs": [
        {
          "output_type": "execute_result",
          "data": {
            "text/plain": [
              "DetailedJobOut(id='baa1ff71-3a6c-4f96-828f-52b6bee7fd19', auto_start=False, hyperparameters=TrainingParameters(training_steps=10, learning_rate=0.0001, weight_decay=0.1, warmup_fraction=0.05, epochs=41.24354940213971, fim_ratio=None, seq_len=32768), model='open-mistral-7b', status='VALIDATED', job_type='completion', created_at=1744662846, modified_at=1744662852, training_files=['db68a0fb-c075-49a7-b706-75fe9c96d80f'], validation_files=['010ccef1-9277-4a86-ac25-1d6cd4f30760'], OBJECT='job', fine_tuned_model=None, suffix=None, integrations=[], trained_tokens=None, repositories=[], metadata=JobMetadataOut(expected_duration_seconds=250, cost=2.63, cost_currency='USD', train_tokens_per_step=131072, train_tokens=1310720, data_tokens=31780, estimated_start_time=None), events=[EventOut(name='status-updated', created_at=1744662846, data={'status': 'QUEUED'}), EventOut(name='status-updated', created_at=1744662847, data={'status': 'VALIDATING'}), EventOut(name='status-updated', created_at=1744662852, data={'status': 'VALIDATED'})], checkpoints=[])"
            ]
          },
          "metadata": {},
          "execution_count": 77
        }
      ]
    },
    {
      "cell_type": "code",
      "source": [
        "# start a fine-tuning job\n",
        "client.fine_tuning.jobs.start(job_id = created_jobs.id)\n",
        "\n",
        "created_jobs"
      ],
      "metadata": {
        "colab": {
          "base_uri": "https://localhost:8080/"
        },
        "id": "vpS1ayxh0aAM",
        "outputId": "d221fb9a-09ed-4b9b-d9c8-2001bb0bf738"
      },
      "execution_count": 78,
      "outputs": [
        {
          "output_type": "execute_result",
          "data": {
            "text/plain": [
              "JobOut(id='baa1ff71-3a6c-4f96-828f-52b6bee7fd19', auto_start=False, hyperparameters=TrainingParameters(training_steps=10, learning_rate=0.0001, weight_decay=0.1, warmup_fraction=0.05, epochs=None, fim_ratio=None, seq_len=32768), model='open-mistral-7b', status='QUEUED', job_type='completion', created_at=1744662846, modified_at=1744662846, training_files=['db68a0fb-c075-49a7-b706-75fe9c96d80f'], validation_files=['010ccef1-9277-4a86-ac25-1d6cd4f30760'], OBJECT='job', fine_tuned_model=None, suffix=None, integrations=[], trained_tokens=None, repositories=[], metadata=JobMetadataOut(expected_duration_seconds=None, cost=0.0, cost_currency=None, train_tokens_per_step=None, train_tokens=None, data_tokens=None, estimated_start_time=None))"
            ]
          },
          "metadata": {},
          "execution_count": 78
        }
      ]
    },
    {
      "cell_type": "markdown",
      "source": [
        "Check finetuneing status"
      ],
      "metadata": {
        "id": "9U3AUIYZvP4I"
      }
    },
    {
      "cell_type": "code",
      "source": [
        "from google.colab import userdata\n",
        "API_KEY = userdata.get('MISTRAL_KEY')\n",
        "import datetime\n",
        "\n",
        "# Set up Mistral client with API key\n",
        "#api_key = os.environ.get(\"MISTRAL_API_KEY\", \"your_api_key_here\")\n",
        "client = Mistral(api_key=API_KEY)\n",
        "\n",
        "# List jobs\n",
        "jobs = client.fine_tuning.jobs.list()\n",
        "print(jobs)\n",
        "\n",
        "# Retrieve a jobs\n",
        "#retrieved_jobs = client.fine_tuning.jobs.get(job_id = created_jobs.id)\n",
        "#print(retrieved_jobs)\n",
        "\n",
        "# Cancel a jobs\n",
        "#canceled_jobs = client.fine_tuning.jobs.cancel(job_id = created_jobs.id)\n",
        "#print(canceled_jobs)"
      ],
      "metadata": {
        "colab": {
          "base_uri": "https://localhost:8080/"
        },
        "id": "_urjZPyAyMbG",
        "outputId": "d2554459-84aa-441e-fcc0-417e41a39ae4"
      },
      "execution_count": 92,
      "outputs": [
        {
          "output_type": "stream",
          "name": "stdout",
          "text": [
            "total=7 data=[JobOut(id='baa1ff71-3a6c-4f96-828f-52b6bee7fd19', auto_start=False, hyperparameters=TrainingParameters(training_steps=10, learning_rate=0.0001, weight_decay=0.1, warmup_fraction=0.05, epochs=41.24354940213971, fim_ratio=None, seq_len=32768), model='open-mistral-7b', status='SUCCESS', job_type='completion', created_at=1744662846, modified_at=1744663193, training_files=['db68a0fb-c075-49a7-b706-75fe9c96d80f'], validation_files=['010ccef1-9277-4a86-ac25-1d6cd4f30760'], OBJECT='job', fine_tuned_model='ft:open-mistral-7b:86677200:20250414:baa1ff71', suffix=None, integrations=[], trained_tokens=1310720, repositories=[], metadata=JobMetadataOut(expected_duration_seconds=250, cost=2.63, cost_currency='USD', train_tokens_per_step=131072, train_tokens=1310720, data_tokens=31780, estimated_start_time=None)), JobOut(id='27618905-f91c-498e-87ba-4a2081cb83eb', auto_start=False, hyperparameters=TrainingParameters(training_steps=10, learning_rate=0.0001, weight_decay=0.1, warmup_fraction=0.05, epochs=13797.052631578947, fim_ratio=None, seq_len=32768), model='open-mistral-7b', status='FAILED_VALIDATION', job_type='completion', created_at=1744662085, modified_at=1744662089, training_files=['6b6eac0e-aa62-4249-b9b6-1e9ff1d93ac8'], validation_files=['6b6eac0e-aa62-4249-b9b6-1e9ff1d93ac8'], OBJECT='job', fine_tuned_model=None, suffix=None, integrations=[], trained_tokens=None, repositories=[], metadata=JobMetadataOut(expected_duration_seconds=250, cost=2.63, cost_currency='USD', train_tokens_per_step=131072, train_tokens=1310720, data_tokens=95, estimated_start_time=None)), JobOut(id='c3f3cd0e-3ba0-4b36-bbd8-dc83d461a15a', auto_start=False, hyperparameters=TrainingParameters(training_steps=10, learning_rate=0.0001, weight_decay=0.1, warmup_fraction=0.05, epochs=13797.052631578947, fim_ratio=None, seq_len=32768), model='open-mistral-7b', status='VALIDATING', job_type='completion', created_at=1744662036, modified_at=1744662039, training_files=['6b6eac0e-aa62-4249-b9b6-1e9ff1d93ac8'], validation_files=['6b6eac0e-aa62-4249-b9b6-1e9ff1d93ac8'], OBJECT='job', fine_tuned_model=None, suffix=None, integrations=[], trained_tokens=None, repositories=[], metadata=JobMetadataOut(expected_duration_seconds=250, cost=2.63, cost_currency='USD', train_tokens_per_step=131072, train_tokens=1310720, data_tokens=95, estimated_start_time=None)), JobOut(id='d58eb4be-b711-4509-bee8-74ff7144730d', auto_start=False, hyperparameters=TrainingParameters(training_steps=10, learning_rate=0.0001, weight_decay=0.1, warmup_fraction=0.05, epochs=13797.052631578947, fim_ratio=None, seq_len=32768), model='open-mistral-7b', status='FAILED_VALIDATION', job_type='completion', created_at=1744662018, modified_at=1744662023, training_files=['6b6eac0e-aa62-4249-b9b6-1e9ff1d93ac8'], validation_files=['6b6eac0e-aa62-4249-b9b6-1e9ff1d93ac8'], OBJECT='job', fine_tuned_model=None, suffix=None, integrations=[], trained_tokens=None, repositories=[], metadata=JobMetadataOut(expected_duration_seconds=250, cost=2.63, cost_currency='USD', train_tokens_per_step=131072, train_tokens=1310720, data_tokens=95, estimated_start_time=None)), JobOut(id='9ec48eaa-7ffb-48ec-a478-bdee745c7b24', auto_start=False, hyperparameters=TrainingParameters(training_steps=10, learning_rate=0.0001, weight_decay=0.1, warmup_fraction=0.05, epochs=37.70987973991599, fim_ratio=None, seq_len=32768), model='open-mistral-7b', status='FAILED_VALIDATION', job_type='completion', created_at=1744661437, modified_at=1744661452, training_files=['504f6e9b-dc97-4566-bc41-9ffac9b2a585'], validation_files=['504f6e9b-dc97-4566-bc41-9ffac9b2a585'], OBJECT='job', fine_tuned_model=None, suffix=None, integrations=[], trained_tokens=None, repositories=[], metadata=JobMetadataOut(expected_duration_seconds=250, cost=2.63, cost_currency='USD', train_tokens_per_step=131072, train_tokens=1310720, data_tokens=34758, estimated_start_time=None)), JobOut(id='3d04c83a-7044-44d9-8b61-67b39309ba48', auto_start=False, hyperparameters=TrainingParameters(training_steps=10, learning_rate=0.0001, weight_decay=0.1, warmup_fraction=0.05, epochs=None, fim_ratio=None, seq_len=32768), model='open-mistral-7b', status='FAILED_VALIDATION', job_type='completion', created_at=1744661110, modified_at=1744661117, training_files=['504f6e9b-dc97-4566-bc41-9ffac9b2a585'], validation_files=['504f6e9b-dc97-4566-bc41-9ffac9b2a585'], OBJECT='job', fine_tuned_model=None, suffix=None, integrations=[], trained_tokens=None, repositories=[], metadata=JobMetadataOut(expected_duration_seconds=None, cost=0.0, cost_currency=None, train_tokens_per_step=None, train_tokens=None, data_tokens=None, estimated_start_time=None)), JobOut(id='57a111f3-4507-43cd-a2cd-9228571c4171', auto_start=False, hyperparameters=TrainingParameters(training_steps=10, learning_rate=0.0001, weight_decay=0.1, warmup_fraction=0.05, epochs=37.70987973991599, fim_ratio=None, seq_len=32768), model='open-mistral-7b', status='FAILED_VALIDATION', job_type='completion', created_at=1744660240, modified_at=1744660244, training_files=['504f6e9b-dc97-4566-bc41-9ffac9b2a585'], validation_files=['504f6e9b-dc97-4566-bc41-9ffac9b2a585'], OBJECT='job', fine_tuned_model=None, suffix=None, integrations=[], trained_tokens=None, repositories=[], metadata=JobMetadataOut(expected_duration_seconds=250, cost=2.63, cost_currency='USD', train_tokens_per_step=131072, train_tokens=1310720, data_tokens=34758, estimated_start_time=None))] OBJECT='list'\n"
          ]
        }
      ]
    },
    {
      "cell_type": "markdown",
      "source": [
        "Use model"
      ],
      "metadata": {
        "id": "OwUua1Q8vOk7"
      }
    },
    {
      "cell_type": "code",
      "source": [
        "from google.colab import userdata\n",
        "API_KEY = userdata.get('MISTRAL_KEY')\n",
        "\n",
        "# Set up Mistral client with API key\n",
        "#api_key = os.environ.get(\"MISTRAL_API_KEY\", \"your_api_key_here\")\n",
        "client = Mistral(api_key=API_KEY)\n",
        "\n",
        "retrieved_model = client.fine_tuning.jobs.get(job_id = \"baa1ff71-3a6c-4f96-828f-52b6bee7fd19\")\n",
        "\n",
        "prompt = \"Classify the political leaning of this text, output must be single word (either Republican, Democrat, or Neither):\"\n",
        "\n",
        "text_input = \"I am a republican\"\n",
        "\n",
        "chat_response = client.chat.complete(\n",
        "    model=retrieved_model.fine_tuned_model,\n",
        "    messages = [{\"role\":'user', \"content\":f'{prompt} {text_input}'}]\n",
        ")\n",
        "\n",
        "print(chat_response.choices[0].message)"
      ],
      "metadata": {
        "colab": {
          "base_uri": "https://localhost:8080/"
        },
        "id": "3h3qQRFnyNil",
        "outputId": "5477b0d3-eb1f-41cf-b7d1-0714b4a3c74f"
      },
      "execution_count": 99,
      "outputs": [
        {
          "output_type": "stream",
          "name": "stdout",
          "text": [
            "content='Republican' tool_calls=None prefix=False role='assistant'\n"
          ]
        }
      ]
    }
  ]
}